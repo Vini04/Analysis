{
 "cells": [
  {
   "cell_type": "code",
   "execution_count": null,
   "id": "45d1a841",
   "metadata": {},
   "outputs": [],
   "source": [
    "# To Import the basic Libraries\n",
    "import numpy as np\n",
    "import pandas as pd\n",
    "# For data visualization\n",
    "import matplotlib.pyplot as plt\n",
    "import seaborn as sns\n",
    "# For jupyter notebook widgets\n",
    "#import ipywidgets as widgets\n",
    "#from ipywidgets import interact\n",
    "#from ipywidgets import interact_manual\n",
    "# for Interactive Shells\n",
    "from IPython.display import display\n",
    "# setting up the chart size and background\n",
    "plt.rcParams['figure.figsize'] = (16, 8)\n",
    "plt.style.use('fivethirtyeight')"
   ]
  },
  {
   "cell_type": "code",
   "execution_count": 2,
   "id": "02805119",
   "metadata": {},
   "outputs": [],
   "source": [
    "# To read the dataset\n",
    "data = pd.read_csv(\"C:/Users/vinee/Dropbox/PC/Downloads/archive/movie_metadata.csv\")"
   ]
  },
  {
   "cell_type": "code",
   "execution_count": 3,
   "id": "439677f9",
   "metadata": {},
   "outputs": [
    {
     "name": "stdout",
     "output_type": "stream",
     "text": [
      "(5043, 28)\n"
     ]
    }
   ],
   "source": [
    "# To check the shape\n",
    "print(data.shape)"
   ]
  },
  {
   "cell_type": "code",
   "execution_count": 4,
   "id": "1ccc8025",
   "metadata": {},
   "outputs": [
    {
     "name": "stdout",
     "output_type": "stream",
     "text": [
      "<class 'pandas.core.frame.DataFrame'>\n",
      "RangeIndex: 5043 entries, 0 to 5042\n",
      "Data columns (total 28 columns):\n",
      " #   Column                     Non-Null Count  Dtype  \n",
      "---  ------                     --------------  -----  \n",
      " 0   color                      5024 non-null   object \n",
      " 1   director_name              4939 non-null   object \n",
      " 2   num_critic_for_reviews     4993 non-null   float64\n",
      " 3   duration                   5028 non-null   float64\n",
      " 4   director_facebook_likes    4939 non-null   float64\n",
      " 5   actor_3_facebook_likes     5020 non-null   float64\n",
      " 6   actor_2_name               5030 non-null   object \n",
      " 7   actor_1_facebook_likes     5036 non-null   float64\n",
      " 8   gross                      4159 non-null   float64\n",
      " 9   genres                     5043 non-null   object \n",
      " 10  actor_1_name               5036 non-null   object \n",
      " 11  movie_title                5043 non-null   object \n",
      " 12  num_voted_users            5043 non-null   int64  \n",
      " 13  cast_total_facebook_likes  5043 non-null   int64  \n",
      " 14  actor_3_name               5020 non-null   object \n",
      " 15  facenumber_in_poster       5030 non-null   float64\n",
      " 16  plot_keywords              4890 non-null   object \n",
      " 17  movie_imdb_link            5043 non-null   object \n",
      " 18  num_user_for_reviews       5022 non-null   float64\n",
      " 19  language                   5031 non-null   object \n",
      " 20  country                    5038 non-null   object \n",
      " 21  content_rating             4740 non-null   object \n",
      " 22  budget                     4551 non-null   float64\n",
      " 23  title_year                 4935 non-null   float64\n",
      " 24  actor_2_facebook_likes     5030 non-null   float64\n",
      " 25  imdb_score                 5043 non-null   float64\n",
      " 26  aspect_ratio               4714 non-null   float64\n",
      " 27  movie_facebook_likes       5043 non-null   int64  \n",
      "dtypes: float64(13), int64(3), object(12)\n",
      "memory usage: 1.1+ MB\n"
     ]
    }
   ],
   "source": [
    "# To check the column wise info\n",
    "data.info()"
   ]
  },
  {
   "cell_type": "code",
   "execution_count": 5,
   "id": "501dff6e",
   "metadata": {},
   "outputs": [
    {
     "data": {
      "text/plain": [
       "color                         0.38\n",
       "director_name                 2.06\n",
       "num_critic_for_reviews        0.99\n",
       "duration                      0.30\n",
       "director_facebook_likes       2.06\n",
       "actor_3_facebook_likes        0.46\n",
       "actor_2_name                  0.26\n",
       "actor_1_facebook_likes        0.14\n",
       "gross                        17.53\n",
       "genres                        0.00\n",
       "actor_1_name                  0.14\n",
       "movie_title                   0.00\n",
       "num_voted_users               0.00\n",
       "cast_total_facebook_likes     0.00\n",
       "actor_3_name                  0.46\n",
       "facenumber_in_poster          0.26\n",
       "plot_keywords                 3.03\n",
       "movie_imdb_link               0.00\n",
       "num_user_for_reviews          0.42\n",
       "language                      0.24\n",
       "country                       0.10\n",
       "content_rating                6.01\n",
       "budget                        9.76\n",
       "title_year                    2.14\n",
       "actor_2_facebook_likes        0.26\n",
       "imdb_score                    0.00\n",
       "aspect_ratio                  6.52\n",
       "movie_facebook_likes          0.00\n",
       "dtype: float64"
      ]
     },
     "execution_count": 5,
     "metadata": {},
     "output_type": "execute_result"
    }
   ],
   "source": [
    "#Missing Values Imputation\n",
    "round(100*(data.isnull().sum()/len(data.index)), 2)"
   ]
  },
  {
   "cell_type": "code",
   "execution_count": 6,
   "id": "ff0a344f",
   "metadata": {},
   "outputs": [],
   "source": [
    "#Since ‘gross’ and ‘budget’ columns have a large number of NaN values, drop all the rows with NaNs at this column using the\n",
    "#‘isnan’ function of NumPy along with a negation ‘~’\n",
    "data = data[~np.isnan(data['gross'])]\n",
    "data = data[~np.isnan(data['budget'])]"
   ]
  },
  {
   "cell_type": "code",
   "execution_count": 7,
   "id": "e6a457ce",
   "metadata": {},
   "outputs": [
    {
     "data": {
      "text/plain": [
       "color                         2\n",
       "director_name                 0\n",
       "num_critic_for_reviews        1\n",
       "duration                      1\n",
       "director_facebook_likes       0\n",
       "actor_3_facebook_likes       10\n",
       "actor_2_name                  5\n",
       "actor_1_facebook_likes        3\n",
       "gross                         0\n",
       "genres                        0\n",
       "actor_1_name                  3\n",
       "movie_title                   0\n",
       "num_voted_users               0\n",
       "cast_total_facebook_likes     0\n",
       "actor_3_name                 10\n",
       "facenumber_in_poster          6\n",
       "plot_keywords                31\n",
       "movie_imdb_link               0\n",
       "num_user_for_reviews          0\n",
       "language                      3\n",
       "country                       0\n",
       "content_rating               51\n",
       "budget                        0\n",
       "title_year                    0\n",
       "actor_2_facebook_likes        5\n",
       "imdb_score                    0\n",
       "aspect_ratio                 75\n",
       "movie_facebook_likes          0\n",
       "dtype: int64"
      ]
     },
     "execution_count": 7,
     "metadata": {},
     "output_type": "execute_result"
    }
   ],
   "source": [
    "#To again check the Missing Values column-wise.\n",
    "data.isnull().sum()"
   ]
  },
  {
   "cell_type": "code",
   "execution_count": 8,
   "id": "5081d69a",
   "metadata": {},
   "outputs": [
    {
     "data": {
      "text/plain": [
       "color                         2\n",
       "director_name                 0\n",
       "num_critic_for_reviews        1\n",
       "duration                      0\n",
       "director_facebook_likes       0\n",
       "actor_3_facebook_likes        4\n",
       "actor_2_name                  0\n",
       "actor_1_facebook_likes        0\n",
       "gross                         0\n",
       "genres                        0\n",
       "actor_1_name                  0\n",
       "movie_title                   0\n",
       "num_voted_users               0\n",
       "cast_total_facebook_likes     0\n",
       "actor_3_name                  4\n",
       "facenumber_in_poster          6\n",
       "plot_keywords                24\n",
       "movie_imdb_link               0\n",
       "num_user_for_reviews          0\n",
       "language                      3\n",
       "country                       0\n",
       "content_rating               41\n",
       "budget                        0\n",
       "title_year                    0\n",
       "actor_2_facebook_likes        0\n",
       "imdb_score                    0\n",
       "aspect_ratio                 67\n",
       "movie_facebook_likes          0\n",
       "dtype: int64"
      ]
     },
     "execution_count": 8,
     "metadata": {},
     "output_type": "execute_result"
    }
   ],
   "source": [
    "#The rows for which the sum of Null is less than two are retained.\n",
    "data = data[data.isnull().sum(axis=1) <= 2]\n",
    "data.isnull().sum()"
   ]
  },
  {
   "cell_type": "code",
   "execution_count": 9,
   "id": "a02ed79e",
   "metadata": {},
   "outputs": [],
   "source": [
    "#Now We cannot use statistical values for imputing the missing values of actor names, so we will replace the \n",
    "#actor names with “Unknown”.\n",
    "data['actor_2_name'].fillna('Unknown Actor', inplace = True)\n",
    "data['actor_3_name'].fillna('Unknown Actor', inplace = True)"
   ]
  },
  {
   "cell_type": "code",
   "execution_count": 10,
   "id": "48757e2e",
   "metadata": {},
   "outputs": [
    {
     "data": {
      "text/plain": [
       "148"
      ]
     },
     "execution_count": 10,
     "metadata": {},
     "output_type": "execute_result"
    }
   ],
   "source": [
    "#Here we imputed all the missing value, so to check the no. of total missing values in the dataset.\n",
    "data.isnull().sum().sum()"
   ]
  },
  {
   "cell_type": "code",
   "execution_count": 11,
   "id": "a32a1cc6",
   "metadata": {},
   "outputs": [],
   "source": [
    "#Now finally we have zero null values."
   ]
  },
  {
   "cell_type": "code",
   "execution_count": 15,
   "id": "52194fb9",
   "metadata": {},
   "outputs": [
    {
     "name": "stdout",
     "output_type": "stream",
     "text": [
      "      color      director_name  num_critic_for_reviews  duration  \\\n",
      "0     Color      James Cameron                   723.0     178.0   \n",
      "1     Color     Gore Verbinski                   302.0     169.0   \n",
      "2     Color         Sam Mendes                   602.0     148.0   \n",
      "3     Color  Christopher Nolan                   813.0     164.0   \n",
      "5     Color     Andrew Stanton                   462.0     132.0   \n",
      "...     ...                ...                     ...       ...   \n",
      "5033  Color      Shane Carruth                   143.0      77.0   \n",
      "5034  Color   Neill Dela Llana                    35.0      80.0   \n",
      "5035  Color   Robert Rodriguez                    56.0      81.0   \n",
      "5037  Color       Edward Burns                    14.0      95.0   \n",
      "5042  Color           Jon Gunn                    43.0      90.0   \n",
      "\n",
      "      director_facebook_likes  actor_3_facebook_likes        actor_2_name  \\\n",
      "0                         0.0                   855.0    Joel David Moore   \n",
      "1                       563.0                  1000.0       Orlando Bloom   \n",
      "2                         0.0                   161.0        Rory Kinnear   \n",
      "3                     22000.0                 23000.0      Christian Bale   \n",
      "5                       475.0                   530.0     Samantha Morton   \n",
      "...                       ...                     ...                 ...   \n",
      "5033                    291.0                     8.0      David Sullivan   \n",
      "5034                      0.0                     0.0     Edgar Tancangco   \n",
      "5035                      0.0                     6.0     Peter Marquardt   \n",
      "5037                      0.0                   133.0  Caitlin FitzGerald   \n",
      "5042                     16.0                    16.0    Brian Herzlinger   \n",
      "\n",
      "      actor_1_facebook_likes         gross  \\\n",
      "0                     1000.0  7.605058e-04   \n",
      "1                    40000.0  3.094042e-04   \n",
      "2                    11000.0  2.000742e-04   \n",
      "3                    27000.0  4.481306e-04   \n",
      "5                      640.0  7.305868e-05   \n",
      "...                      ...           ...   \n",
      "5033                   291.0  4.247600e-07   \n",
      "5034                     0.0  7.007100e-08   \n",
      "5035                   121.0  2.040920e-06   \n",
      "5037                   296.0  4.584000e-09   \n",
      "5042                    86.0  8.522200e-08   \n",
      "\n",
      "                                   genres  ... language      country  \\\n",
      "0         Action|Adventure|Fantasy|Sci-Fi  ...  English          USA   \n",
      "1                Action|Adventure|Fantasy  ...  English          USA   \n",
      "2               Action|Adventure|Thriller  ...  English           UK   \n",
      "3                         Action|Thriller  ...  English          USA   \n",
      "5                 Action|Adventure|Sci-Fi  ...  English          USA   \n",
      "...                                   ...  ...      ...          ...   \n",
      "5033                Drama|Sci-Fi|Thriller  ...  English          USA   \n",
      "5034                             Thriller  ...  English  Philippines   \n",
      "5035  Action|Crime|Drama|Romance|Thriller  ...  Spanish          USA   \n",
      "5037                         Comedy|Drama  ...  English          USA   \n",
      "5042                          Documentary  ...  English          USA   \n",
      "\n",
      "      content_rating        budget title_year  actor_2_facebook_likes  \\\n",
      "0              PG-13  2.370000e-04     2009.0                   936.0   \n",
      "1              PG-13  3.000000e-04     2007.0                  5000.0   \n",
      "2              PG-13  2.450000e-04     2015.0                   393.0   \n",
      "3              PG-13  2.500000e-04     2012.0                 23000.0   \n",
      "5              PG-13  2.637000e-04     2012.0                   632.0   \n",
      "...              ...           ...        ...                     ...   \n",
      "5033           PG-13  7.000000e-09     2004.0                    45.0   \n",
      "5034       Not Rated  7.000000e-09     2005.0                     0.0   \n",
      "5035               R  7.000000e-09     1992.0                    20.0   \n",
      "5037       Not Rated  9.000000e-09     2011.0                   205.0   \n",
      "5042              PG  1.100000e-09     2004.0                    23.0   \n",
      "\n",
      "     imdb_score aspect_ratio  movie_facebook_likes      Profit  \n",
      "0           7.9         1.78                 33000  523.505847  \n",
      "1           7.1         2.35                     0    9.404152  \n",
      "2           6.8         2.35                 85000  -44.925825  \n",
      "3           8.5         2.35                164000  198.130642  \n",
      "5           6.6         2.35                 24000 -190.641321  \n",
      "...         ...          ...                   ...         ...  \n",
      "5033        7.0         1.85                 19000    0.417760  \n",
      "5034        6.3          NaN                    74    0.063071  \n",
      "5035        6.9         1.37                     0    2.033920  \n",
      "5037        6.4          NaN                   413   -0.004416  \n",
      "5042        6.6         1.85                   456    0.084122  \n",
      "\n",
      "[3879 rows x 29 columns]\n"
     ]
    }
   ],
   "source": [
    "#Feature Engineering:\n",
    "#Now to convert the gross and budget from $ to Million $ to make our analysis easier.\n",
    "data['gross'] = data['gross']/1000000\n",
    "data['budget'] = data['budget']/1000000\n",
    "print(data)"
   ]
  },
  {
   "cell_type": "code",
   "execution_count": null,
   "id": "d04469a5",
   "metadata": {},
   "outputs": [],
   "source": [
    "\"\"\"alculating Profit of a Movie:\n",
    "#Budget: It is an amount that Producers Spend to Produce a Movie that \n",
    "Includes the Production, casting, and Advertisements cost.\n",
    "\n",
    "#Gross: It is an amount that Producers earn by releasing their movies in theaters, \n",
    "selling satellite rights to TV, OTT Platforms such as Prime, Hulu, Disney+Hotstar, Netflix, etc.\n",
    "\"\"\""
   ]
  },
  {
   "cell_type": "code",
   "execution_count": 16,
   "id": "e0127af7",
   "metadata": {},
   "outputs": [
    {
     "name": "stdout",
     "output_type": "stream",
     "text": [
      "      color      director_name  num_critic_for_reviews  duration  \\\n",
      "0     Color      James Cameron                   723.0     178.0   \n",
      "1     Color     Gore Verbinski                   302.0     169.0   \n",
      "2     Color         Sam Mendes                   602.0     148.0   \n",
      "3     Color  Christopher Nolan                   813.0     164.0   \n",
      "5     Color     Andrew Stanton                   462.0     132.0   \n",
      "...     ...                ...                     ...       ...   \n",
      "5033  Color      Shane Carruth                   143.0      77.0   \n",
      "5034  Color   Neill Dela Llana                    35.0      80.0   \n",
      "5035  Color   Robert Rodriguez                    56.0      81.0   \n",
      "5037  Color       Edward Burns                    14.0      95.0   \n",
      "5042  Color           Jon Gunn                    43.0      90.0   \n",
      "\n",
      "      director_facebook_likes  actor_3_facebook_likes        actor_2_name  \\\n",
      "0                         0.0                   855.0    Joel David Moore   \n",
      "1                       563.0                  1000.0       Orlando Bloom   \n",
      "2                         0.0                   161.0        Rory Kinnear   \n",
      "3                     22000.0                 23000.0      Christian Bale   \n",
      "5                       475.0                   530.0     Samantha Morton   \n",
      "...                       ...                     ...                 ...   \n",
      "5033                    291.0                     8.0      David Sullivan   \n",
      "5034                      0.0                     0.0     Edgar Tancangco   \n",
      "5035                      0.0                     6.0     Peter Marquardt   \n",
      "5037                      0.0                   133.0  Caitlin FitzGerald   \n",
      "5042                     16.0                    16.0    Brian Herzlinger   \n",
      "\n",
      "      actor_1_facebook_likes         gross  \\\n",
      "0                     1000.0  7.605058e-04   \n",
      "1                    40000.0  3.094042e-04   \n",
      "2                    11000.0  2.000742e-04   \n",
      "3                    27000.0  4.481306e-04   \n",
      "5                      640.0  7.305868e-05   \n",
      "...                      ...           ...   \n",
      "5033                   291.0  4.247600e-07   \n",
      "5034                     0.0  7.007100e-08   \n",
      "5035                   121.0  2.040920e-06   \n",
      "5037                   296.0  4.584000e-09   \n",
      "5042                    86.0  8.522200e-08   \n",
      "\n",
      "                                   genres  ... language      country  \\\n",
      "0         Action|Adventure|Fantasy|Sci-Fi  ...  English          USA   \n",
      "1                Action|Adventure|Fantasy  ...  English          USA   \n",
      "2               Action|Adventure|Thriller  ...  English           UK   \n",
      "3                         Action|Thriller  ...  English          USA   \n",
      "5                 Action|Adventure|Sci-Fi  ...  English          USA   \n",
      "...                                   ...  ...      ...          ...   \n",
      "5033                Drama|Sci-Fi|Thriller  ...  English          USA   \n",
      "5034                             Thriller  ...  English  Philippines   \n",
      "5035  Action|Crime|Drama|Romance|Thriller  ...  Spanish          USA   \n",
      "5037                         Comedy|Drama  ...  English          USA   \n",
      "5042                          Documentary  ...  English          USA   \n",
      "\n",
      "      content_rating        budget title_year  actor_2_facebook_likes  \\\n",
      "0              PG-13  2.370000e-04     2009.0                   936.0   \n",
      "1              PG-13  3.000000e-04     2007.0                  5000.0   \n",
      "2              PG-13  2.450000e-04     2015.0                   393.0   \n",
      "3              PG-13  2.500000e-04     2012.0                 23000.0   \n",
      "5              PG-13  2.637000e-04     2012.0                   632.0   \n",
      "...              ...           ...        ...                     ...   \n",
      "5033           PG-13  7.000000e-09     2004.0                    45.0   \n",
      "5034       Not Rated  7.000000e-09     2005.0                     0.0   \n",
      "5035               R  7.000000e-09     1992.0                    20.0   \n",
      "5037       Not Rated  9.000000e-09     2011.0                   205.0   \n",
      "5042              PG  1.100000e-09     2004.0                    23.0   \n",
      "\n",
      "     imdb_score aspect_ratio  movie_facebook_likes        Profit  \n",
      "0           7.9         1.78                 33000  5.235058e-04  \n",
      "1           7.1         2.35                     0  9.404152e-06  \n",
      "2           6.8         2.35                 85000 -4.492583e-05  \n",
      "3           8.5         2.35                164000  1.981306e-04  \n",
      "5           6.6         2.35                 24000 -1.906413e-04  \n",
      "...         ...          ...                   ...           ...  \n",
      "5033        7.0         1.85                 19000  4.177600e-07  \n",
      "5034        6.3          NaN                    74  6.307100e-08  \n",
      "5035        6.9         1.37                     0  2.033920e-06  \n",
      "5037        6.4          NaN                   413 -4.416000e-09  \n",
      "5042        6.6         1.85                   456  8.412200e-08  \n",
      "\n",
      "[3879 rows x 29 columns]\n"
     ]
    }
   ],
   "source": [
    "#Profit: Gross — Budget,\n",
    "#We are going to use this formula, to calculate the Top Most Profitable Movies of all time.\n",
    "#To create a Profit column using the Budget and Gross.\n",
    "data['Profit'] = data['gross'] - data['budget']\n",
    "print(data)"
   ]
  },
  {
   "cell_type": "code",
   "execution_count": 17,
   "id": "8d9cea81",
   "metadata": {},
   "outputs": [
    {
     "data": {
      "text/html": [
       "<div>\n",
       "<style scoped>\n",
       "    .dataframe tbody tr th:only-of-type {\n",
       "        vertical-align: middle;\n",
       "    }\n",
       "\n",
       "    .dataframe tbody tr th {\n",
       "        vertical-align: top;\n",
       "    }\n",
       "\n",
       "    .dataframe thead th {\n",
       "        text-align: right;\n",
       "    }\n",
       "</style>\n",
       "<table border=\"1\" class=\"dataframe\">\n",
       "  <thead>\n",
       "    <tr style=\"text-align: right;\">\n",
       "      <th></th>\n",
       "      <th>Profit</th>\n",
       "      <th>movie_title</th>\n",
       "    </tr>\n",
       "  </thead>\n",
       "  <tbody>\n",
       "    <tr>\n",
       "      <th>0</th>\n",
       "      <td>0.000524</td>\n",
       "      <td>Avatar</td>\n",
       "    </tr>\n",
       "    <tr>\n",
       "      <th>29</th>\n",
       "      <td>0.000502</td>\n",
       "      <td>Jurassic World</td>\n",
       "    </tr>\n",
       "    <tr>\n",
       "      <th>26</th>\n",
       "      <td>0.000459</td>\n",
       "      <td>Titanic</td>\n",
       "    </tr>\n",
       "    <tr>\n",
       "      <th>3024</th>\n",
       "      <td>0.000450</td>\n",
       "      <td>Star Wars: Episode IV - A New Hope</td>\n",
       "    </tr>\n",
       "    <tr>\n",
       "      <th>3080</th>\n",
       "      <td>0.000424</td>\n",
       "      <td>E.T. the Extra-Terrestrial</td>\n",
       "    </tr>\n",
       "    <tr>\n",
       "      <th>794</th>\n",
       "      <td>0.000403</td>\n",
       "      <td>The Avengers</td>\n",
       "    </tr>\n",
       "    <tr>\n",
       "      <th>17</th>\n",
       "      <td>0.000403</td>\n",
       "      <td>The Avengers</td>\n",
       "    </tr>\n",
       "    <tr>\n",
       "      <th>509</th>\n",
       "      <td>0.000378</td>\n",
       "      <td>The Lion King</td>\n",
       "    </tr>\n",
       "    <tr>\n",
       "      <th>240</th>\n",
       "      <td>0.000360</td>\n",
       "      <td>Star Wars: Episode I - The Phantom Menace</td>\n",
       "    </tr>\n",
       "    <tr>\n",
       "      <th>66</th>\n",
       "      <td>0.000348</td>\n",
       "      <td>The Dark Knight</td>\n",
       "    </tr>\n",
       "  </tbody>\n",
       "</table>\n",
       "</div>"
      ],
      "text/plain": [
       "        Profit                                 movie_title\n",
       "0     0.000524                                     Avatar \n",
       "29    0.000502                             Jurassic World \n",
       "26    0.000459                                    Titanic \n",
       "3024  0.000450         Star Wars: Episode IV - A New Hope \n",
       "3080  0.000424                 E.T. the Extra-Terrestrial \n",
       "794   0.000403                               The Avengers \n",
       "17    0.000403                               The Avengers \n",
       "509   0.000378                              The Lion King \n",
       "240   0.000360  Star Wars: Episode I - The Phantom Menace \n",
       "66    0.000348                            The Dark Knight "
      ]
     },
     "execution_count": 17,
     "metadata": {},
     "output_type": "execute_result"
    }
   ],
   "source": [
    "#Now to check the name of the Top 10 Profitable Movies.\n",
    "data[['Profit','movie_title']].sort_values(by = 'Profit', ascending  = False).head(10)"
   ]
  },
  {
   "cell_type": "code",
   "execution_count": null,
   "id": "1c229862",
   "metadata": {},
   "outputs": [],
   "source": [
    "\"\"\"By looking at the above result we can easily analyze that there is some duplicate. \n",
    "So we have to remove these duplicates.\n",
    "lets print the no. of rows before removing Duplicates\n",
    "\"\"\""
   ]
  },
  {
   "cell_type": "code",
   "execution_count": 19,
   "id": "443fbae8",
   "metadata": {},
   "outputs": [
    {
     "name": "stdout",
     "output_type": "stream",
     "text": [
      "No. of Rows Before Removing Duplicates:  3879\n"
     ]
    }
   ],
   "source": [
    "print(\"No. of Rows Before Removing Duplicates: \",data.shape[0])"
   ]
  },
  {
   "cell_type": "code",
   "execution_count": 22,
   "id": "f44a2319",
   "metadata": {},
   "outputs": [
    {
     "name": "stdout",
     "output_type": "stream",
     "text": [
      "No. of Rows After Removing Duplicates:  3845\n"
     ]
    }
   ],
   "source": [
    "# So to remove all the duplicates from the data\n",
    "data.drop_duplicates(subset = None, keep = 'first', inplace = True)\n",
    "# To print the no. of rows after removing Duplicates\n",
    "print(\"No. of Rows After Removing Duplicates: \",data.shape[0])"
   ]
  },
  {
   "cell_type": "code",
   "execution_count": 23,
   "id": "03664f26",
   "metadata": {},
   "outputs": [],
   "source": [
    "#Top 10 Movies with Highest profit:"
   ]
  },
  {
   "cell_type": "code",
   "execution_count": 24,
   "id": "93b590cc",
   "metadata": {},
   "outputs": [
    {
     "data": {
      "text/html": [
       "<div>\n",
       "<style scoped>\n",
       "    .dataframe tbody tr th:only-of-type {\n",
       "        vertical-align: middle;\n",
       "    }\n",
       "\n",
       "    .dataframe tbody tr th {\n",
       "        vertical-align: top;\n",
       "    }\n",
       "\n",
       "    .dataframe thead th {\n",
       "        text-align: right;\n",
       "    }\n",
       "</style>\n",
       "<table border=\"1\" class=\"dataframe\">\n",
       "  <thead>\n",
       "    <tr style=\"text-align: right;\">\n",
       "      <th></th>\n",
       "      <th>movie_title</th>\n",
       "      <th>Profit</th>\n",
       "    </tr>\n",
       "  </thead>\n",
       "  <tbody>\n",
       "    <tr>\n",
       "      <th>0</th>\n",
       "      <td>Avatar</td>\n",
       "      <td>0.000524</td>\n",
       "    </tr>\n",
       "    <tr>\n",
       "      <th>29</th>\n",
       "      <td>Jurassic World</td>\n",
       "      <td>0.000502</td>\n",
       "    </tr>\n",
       "    <tr>\n",
       "      <th>26</th>\n",
       "      <td>Titanic</td>\n",
       "      <td>0.000459</td>\n",
       "    </tr>\n",
       "    <tr>\n",
       "      <th>3024</th>\n",
       "      <td>Star Wars: Episode IV - A New Hope</td>\n",
       "      <td>0.000450</td>\n",
       "    </tr>\n",
       "    <tr>\n",
       "      <th>3080</th>\n",
       "      <td>E.T. the Extra-Terrestrial</td>\n",
       "      <td>0.000424</td>\n",
       "    </tr>\n",
       "    <tr>\n",
       "      <th>17</th>\n",
       "      <td>The Avengers</td>\n",
       "      <td>0.000403</td>\n",
       "    </tr>\n",
       "    <tr>\n",
       "      <th>509</th>\n",
       "      <td>The Lion King</td>\n",
       "      <td>0.000378</td>\n",
       "    </tr>\n",
       "    <tr>\n",
       "      <th>240</th>\n",
       "      <td>Star Wars: Episode I - The Phantom Menace</td>\n",
       "      <td>0.000360</td>\n",
       "    </tr>\n",
       "    <tr>\n",
       "      <th>66</th>\n",
       "      <td>The Dark Knight</td>\n",
       "      <td>0.000348</td>\n",
       "    </tr>\n",
       "    <tr>\n",
       "      <th>439</th>\n",
       "      <td>The Hunger Games</td>\n",
       "      <td>0.000330</td>\n",
       "    </tr>\n",
       "  </tbody>\n",
       "</table>\n",
       "</div>"
      ],
      "text/plain": [
       "                                     movie_title    Profit\n",
       "0                                        Avatar   0.000524\n",
       "29                               Jurassic World   0.000502\n",
       "26                                      Titanic   0.000459\n",
       "3024         Star Wars: Episode IV - A New Hope   0.000450\n",
       "3080                 E.T. the Extra-Terrestrial   0.000424\n",
       "17                                 The Avengers   0.000403\n",
       "509                               The Lion King   0.000378\n",
       "240   Star Wars: Episode I - The Phantom Menace   0.000360\n",
       "66                              The Dark Knight   0.000348\n",
       "439                            The Hunger Games   0.000330"
      ]
     },
     "execution_count": 24,
     "metadata": {},
     "output_type": "execute_result"
    }
   ],
   "source": [
    "#To check the Top 10 Profitable Movies Again.\n",
    "data[['movie_title','Profit']].sort_values(by = 'Profit', ascending  = False).head(10)"
   ]
  },
  {
   "cell_type": "code",
   "execution_count": 25,
   "id": "022a2504",
   "metadata": {},
   "outputs": [],
   "source": [
    "#Manipulating the Duration and Language Column:"
   ]
  },
  {
   "cell_type": "code",
   "execution_count": 26,
   "id": "d98f923a",
   "metadata": {},
   "outputs": [
    {
     "data": {
      "text/plain": [
       "English       3664\n",
       "French          37\n",
       "Spanish         25\n",
       "Mandarin        14\n",
       "German          13\n",
       "Japanese        12\n",
       "Hindi           10\n",
       "Cantonese        8\n",
       "Italian          7\n",
       "Portuguese       5\n",
       "Korean           5\n",
       "Norwegian        4\n",
       "Dutch            3\n",
       "Persian          3\n",
       "Thai             3\n",
       "Danish           3\n",
       "Aboriginal       2\n",
       "Dari             2\n",
       "Indonesian       2\n",
       "Hebrew           2\n",
       "Russian          1\n",
       "Romanian         1\n",
       "Vietnamese       1\n",
       "Arabic           1\n",
       "Dzongkha         1\n",
       "Zulu             1\n",
       "None             1\n",
       "Aramaic          1\n",
       "Czech            1\n",
       "Telugu           1\n",
       "Icelandic        1\n",
       "Filipino         1\n",
       "Hungarian        1\n",
       "Maya             1\n",
       "Bosnian          1\n",
       "Mongolian        1\n",
       "Kazakh           1\n",
       "Swedish          1\n",
       "Name: language, dtype: int64"
      ]
     },
     "execution_count": 26,
     "metadata": {},
     "output_type": "execute_result"
    }
   ],
   "source": [
    "#To check the values in the language column.\n",
    "data['language'].value_counts()"
   ]
  },
  {
   "cell_type": "code",
   "execution_count": 28,
   "id": "aa663dfa",
   "metadata": {},
   "outputs": [
    {
     "data": {
      "text/plain": [
       "English    3664\n",
       "Foreign     181\n",
       "Name: language, dtype: int64"
      ]
     },
     "execution_count": 28,
     "metadata": {},
     "output_type": "execute_result"
    }
   ],
   "source": [
    "#Looking at the above output we can easily observe that out of 3,500 movies only 150 movies are of other languages. \n",
    "#So it is better to keep only two languages that are English and Foreign.\n",
    "def language(x):\n",
    "    if x == 'English':\n",
    "        return 'English'\n",
    "    else:\n",
    "        return 'Foreign'\n",
    "# lets apply the function on the language column\n",
    "data['language'] = data['language'].apply(language)\n",
    "# lets check the values again\n",
    "data['language'].value_counts()"
   ]
  },
  {
   "cell_type": "code",
   "execution_count": 29,
   "id": "aec44352",
   "metadata": {},
   "outputs": [
    {
     "data": {
      "text/plain": [
       "Short    2928\n",
       "Long      917\n",
       "Name: duration, dtype: int64"
      ]
     },
     "execution_count": 29,
     "metadata": {},
     "output_type": "execute_result"
    }
   ],
   "source": [
    "\"\"\"The Duration of Movies is not varying a lot but we know that most of the users either like watching long movies or \n",
    "short-duration movies. We can categorize the movies in two-part i.e., short and long. \n",
    "So define a function for categorizing the Duration of Movies.\n",
    "\"\"\"\n",
    "def duration(x):\n",
    "     if x <= 120:\n",
    "        return 'Short'\n",
    "     else:\n",
    "        return 'Long'\n",
    "# Now to apply this function on the duration column\n",
    "data['duration'] = data['duration'].apply(duration)\n",
    "# lets check the values of Duration column\n",
    "data['duration'].value_counts()"
   ]
  },
  {
   "cell_type": "code",
   "execution_count": 30,
   "id": "b91a6d3c",
   "metadata": {},
   "outputs": [
    {
     "data": {
      "text/plain": [
       "Drama                                      153\n",
       "Comedy|Drama|Romance                       151\n",
       "Comedy|Drama                               146\n",
       "Comedy                                     145\n",
       "Comedy|Romance                             136\n",
       "                                          ... \n",
       "Adventure|Comedy|Sci-Fi|Western              1\n",
       "Action|Biography|Drama|Thriller|War          1\n",
       "Action|Fantasy|Western                       1\n",
       "Action|Adventure|Family|Fantasy|Romance      1\n",
       "Comedy|Crime|Horror                          1\n",
       "Name: genres, Length: 760, dtype: int64"
      ]
     },
     "execution_count": 30,
     "metadata": {},
     "output_type": "execute_result"
    }
   ],
   "source": [
    "#Now to check the values in the Genres Column.\n",
    "data['genres'].value_counts()"
   ]
  },
  {
   "cell_type": "code",
   "execution_count": 31,
   "id": "1f5a9ce2",
   "metadata": {},
   "outputs": [
    {
     "data": {
      "text/plain": [
       "['Action', 'Adventure', 'Fantasy', 'Sci-Fi']"
      ]
     },
     "execution_count": 31,
     "metadata": {},
     "output_type": "execute_result"
    }
   ],
   "source": [
    "data['genres'].str.split('|')[0]"
   ]
  },
  {
   "cell_type": "code",
   "execution_count": 32,
   "id": "e5c550d1",
   "metadata": {},
   "outputs": [
    {
     "data": {
      "text/html": [
       "<div>\n",
       "<style scoped>\n",
       "    .dataframe tbody tr th:only-of-type {\n",
       "        vertical-align: middle;\n",
       "    }\n",
       "\n",
       "    .dataframe tbody tr th {\n",
       "        vertical-align: top;\n",
       "    }\n",
       "\n",
       "    .dataframe thead th {\n",
       "        text-align: right;\n",
       "    }\n",
       "</style>\n",
       "<table border=\"1\" class=\"dataframe\">\n",
       "  <thead>\n",
       "    <tr style=\"text-align: right;\">\n",
       "      <th></th>\n",
       "      <th>genres</th>\n",
       "      <th>Genre1</th>\n",
       "      <th>Genre2</th>\n",
       "      <th>Genre3</th>\n",
       "      <th>Genre4</th>\n",
       "    </tr>\n",
       "  </thead>\n",
       "  <tbody>\n",
       "    <tr>\n",
       "      <th>0</th>\n",
       "      <td>Action|Adventure|Fantasy|Sci-Fi</td>\n",
       "      <td>Action</td>\n",
       "      <td>Adventure</td>\n",
       "      <td>Fantasy</td>\n",
       "      <td>Sci-Fi</td>\n",
       "    </tr>\n",
       "    <tr>\n",
       "      <th>1</th>\n",
       "      <td>Action|Adventure|Fantasy</td>\n",
       "      <td>Action</td>\n",
       "      <td>Adventure</td>\n",
       "      <td>Fantasy</td>\n",
       "      <td>Action</td>\n",
       "    </tr>\n",
       "    <tr>\n",
       "      <th>2</th>\n",
       "      <td>Action|Adventure|Thriller</td>\n",
       "      <td>Action</td>\n",
       "      <td>Adventure</td>\n",
       "      <td>Thriller</td>\n",
       "      <td>Action</td>\n",
       "    </tr>\n",
       "    <tr>\n",
       "      <th>3</th>\n",
       "      <td>Action|Thriller</td>\n",
       "      <td>Action</td>\n",
       "      <td>Thriller</td>\n",
       "      <td>Action</td>\n",
       "      <td>Action</td>\n",
       "    </tr>\n",
       "    <tr>\n",
       "      <th>5</th>\n",
       "      <td>Action|Adventure|Sci-Fi</td>\n",
       "      <td>Action</td>\n",
       "      <td>Adventure</td>\n",
       "      <td>Sci-Fi</td>\n",
       "      <td>Action</td>\n",
       "    </tr>\n",
       "  </tbody>\n",
       "</table>\n",
       "</div>"
      ],
      "text/plain": [
       "                            genres  Genre1     Genre2    Genre3  Genre4\n",
       "0  Action|Adventure|Fantasy|Sci-Fi  Action  Adventure   Fantasy  Sci-Fi\n",
       "1         Action|Adventure|Fantasy  Action  Adventure   Fantasy  Action\n",
       "2        Action|Adventure|Thriller  Action  Adventure  Thriller  Action\n",
       "3                  Action|Thriller  Action   Thriller    Action  Action\n",
       "5          Action|Adventure|Sci-Fi  Action  Adventure    Sci-Fi  Action"
      ]
     },
     "execution_count": 32,
     "metadata": {},
     "output_type": "execute_result"
    }
   ],
   "source": [
    "#We can see from the above output that most of the movies are having a lot of genres also, a movie can have so many \n",
    "#genres so let's keep four genres.\n",
    "data['Moviegenres'] = data['genres'].str.split('|')\n",
    "data['Genre1'] = data['Moviegenres'].apply(lambda x: x[0])\n",
    "# Some of the movies have only one genre. In such cases, assign the same genre to 'genre_2' as well\n",
    "data['Genre2'] = data['Moviegenres'].apply(lambda x: x[1] if len(x) > 1 else x[0])\n",
    "data['Genre3'] = data['Moviegenres'].apply(lambda x: x[2] if len(x) > 2 else x[0])\n",
    "data['Genre4'] = data['Moviegenres'].apply(lambda x: x[3] if len(x) > 3 else x[0])\n",
    "#Now check the head of the  data\n",
    "data[['genres','Genre1','Genre2','Genre3','Genre4']].head(5)"
   ]
  },
  {
   "cell_type": "code",
   "execution_count": null,
   "id": "42d9fe01",
   "metadata": {},
   "outputs": [],
   "source": [
    "\"\"\"Data Visualisation:\n",
    "Calculating Social Media Popularity:\n",
    "Important Factors to determine Social Media Popularity includes:\n",
    "a)Number of People who voted for the Movie.\n",
    "b)Number of People who Reviewed the Movie.\n",
    "c)The number of Facebook Likes on the Movie Page.\n",
    "Using these Metrics, we have come up with a Formula to calculate the Social Media Popularity of these Movies.\n",
    "(No. of People Reviewed for Movie/No. Of People Voted for Movie)*No. Of Facebook Likes.\n",
    "To calculate popularity of a movie, we can aggregate No. of voted users, No. of Users for Reviews, and Facebook Likes.\n",
    "\"\"\""
   ]
  },
  {
   "cell_type": "code",
   "execution_count": 36,
   "id": "e6a6fad3",
   "metadata": {},
   "outputs": [
    {
     "name": "stdout",
     "output_type": "stream",
     "text": [
      "   index                          movie_title  Social_Media_Popularity\n",
      "0     10  Batman v Superman: Dawn of Justice               1599.794424\n",
      "1    150                        Ghostbusters               1076.336425\n",
      "2   1582                        Ghostbusters               1075.827482\n",
      "3     96                        Interstellar               1024.560802\n",
      "4   3015               10 Days in a Madhouse                828.025478\n",
      "5    945                      Into the Woods                692.937200\n",
      "6     73                       Suicide Squad                652.816996\n",
      "7   1190                Fifty Shades of Grey                624.306881\n",
      "8    108                            Warcraft                622.790277\n",
      "9     92        Independence Day: Resurgence                599.274128\n"
     ]
    },
    {
     "name": "stderr",
     "output_type": "stream",
     "text": [
      "D:\\Anaconda(Python Class)\\lib\\site-packages\\seaborn\\_decorators.py:36: FutureWarning: Pass the following variables as keyword args: x, y. From version 0.12, the only valid positional argument will be `data`, and passing other arguments without an explicit keyword will result in an error or misinterpretation.\n",
      "  warnings.warn(\n"
     ]
    },
    {
     "data": {
      "image/png": "[encoded data removed]",
      "text/plain": [
       "<Figure size 1152x576 with 1 Axes>"
      ]
     },
     "metadata": {},
     "output_type": "display_data"
    }
   ],
   "source": [
    "data['Social_Media_Popularity'] = (data['num_user_for_reviews']/\n",
    "data['num_voted_users'])*data['movie_facebook_likes']\n",
    "# Also to check the Top 10 Most Popular Movies on Social Media\n",
    "x = data[['movie_title','Social_Media_Popularity']].sort_values(by = 'Social_Media_Popularity',\n",
    "ascending = False).head(10).reset_index()\n",
    "print(x)\n",
    "sns.barplot(x['movie_title'], x['Social_Media_Popularity'], palette = 'magma')\n",
    "plt.title('Top 10 Most Popular Movies on Social Media', fontsize = 20)\n",
    "plt.xticks(rotation = 90, fontsize = 14)\n",
    "plt.xlabel(' ')\n",
    "plt.show()"
   ]
  },
  {
   "cell_type": "code",
   "execution_count": 37,
   "id": "d5c93d8c",
   "metadata": {},
   "outputs": [
    {
     "data": {
      "image/png": "[encoded data removed]",
      "text/plain": [
       "<Figure size 1152x576 with 1 Axes>"
      ]
     },
     "metadata": {},
     "output_type": "display_data"
    },
    {
     "name": "stdout",
     "output_type": "stream",
     "text": [
      "The Most Profitable Movie from each Genre\n"
     ]
    },
    {
     "data": {
      "text/html": [
       "<style type=\"text/css\">\n",
       "#T_eb5d8_row0_col2 {\n",
       "  background-color: #ffc77f;\n",
       "  color: #000000;\n",
       "}\n",
       "#T_eb5d8_row1_col2 {\n",
       "  background-color: #af6f47;\n",
       "  color: #f1f1f1;\n",
       "}\n",
       "#T_eb5d8_row2_col2 {\n",
       "  background-color: #98603d;\n",
       "  color: #f1f1f1;\n",
       "}\n",
       "#T_eb5d8_row3_col2 {\n",
       "  background-color: #6a432b;\n",
       "  color: #f1f1f1;\n",
       "}\n",
       "#T_eb5d8_row4_col2 {\n",
       "  background-color: #885637;\n",
       "  color: #f1f1f1;\n",
       "}\n",
       "#T_eb5d8_row5_col2 {\n",
       "  background-color: #382316;\n",
       "  color: #f1f1f1;\n",
       "}\n",
       "#T_eb5d8_row6_col2 {\n",
       "  background-color: #311f14;\n",
       "  color: #f1f1f1;\n",
       "}\n",
       "#T_eb5d8_row7_col2 {\n",
       "  background-color: #ffad6e;\n",
       "  color: #000000;\n",
       "}\n",
       "#T_eb5d8_row8_col2 {\n",
       "  background-color: #b47249;\n",
       "  color: #f1f1f1;\n",
       "}\n",
       "#T_eb5d8_row9_col2 {\n",
       "  background-color: #281910;\n",
       "  color: #f1f1f1;\n",
       "}\n",
       "#T_eb5d8_row10_col2 {\n",
       "  background-color: #543522;\n",
       "  color: #f1f1f1;\n",
       "}\n",
       "#T_eb5d8_row11_col2 {\n",
       "  background-color: #4b301e;\n",
       "  color: #f1f1f1;\n",
       "}\n",
       "#T_eb5d8_row12_col2 {\n",
       "  background-color: #5a3924;\n",
       "  color: #f1f1f1;\n",
       "}\n",
       "#T_eb5d8_row13_col2 {\n",
       "  background-color: #1a100a;\n",
       "  color: #f1f1f1;\n",
       "}\n",
       "#T_eb5d8_row14_col2 {\n",
       "  background-color: #20140d;\n",
       "  color: #f1f1f1;\n",
       "}\n",
       "#T_eb5d8_row15_col2 {\n",
       "  background-color: #000000;\n",
       "  color: #f1f1f1;\n",
       "}\n",
       "#T_eb5d8_row16_col2 {\n",
       "  background-color: #100a06;\n",
       "  color: #f1f1f1;\n",
       "}\n",
       "</style>\n",
       "<table id=\"T_eb5d8_\">\n",
       "  <thead>\n",
       "    <tr>\n",
       "      <th class=\"blank level0\" >&nbsp;</th>\n",
       "      <th class=\"col_heading level0 col0\" >Genre1</th>\n",
       "      <th class=\"col_heading level0 col1\" >movie_title</th>\n",
       "      <th class=\"col_heading level0 col2\" >gross</th>\n",
       "    </tr>\n",
       "  </thead>\n",
       "  <tbody>\n",
       "    <tr>\n",
       "      <th id=\"T_eb5d8_level0_row0\" class=\"row_heading level0 row0\" >0</th>\n",
       "      <td id=\"T_eb5d8_row0_col0\" class=\"data row0 col0\" >Action</td>\n",
       "      <td id=\"T_eb5d8_row0_col1\" class=\"data row0 col1\" >Avatar </td>\n",
       "      <td id=\"T_eb5d8_row0_col2\" class=\"data row0 col2\" >0.000761</td>\n",
       "    </tr>\n",
       "    <tr>\n",
       "      <th id=\"T_eb5d8_level0_row1\" class=\"row_heading level0 row1\" >509</th>\n",
       "      <td id=\"T_eb5d8_row1_col0\" class=\"data row1 col0\" >Adventure</td>\n",
       "      <td id=\"T_eb5d8_row1_col1\" class=\"data row1 col1\" >The Lion King </td>\n",
       "      <td id=\"T_eb5d8_row1_col2\" class=\"data row1 col2\" >0.000423</td>\n",
       "    </tr>\n",
       "    <tr>\n",
       "      <th id=\"T_eb5d8_level0_row2\" class=\"row_heading level0 row2\" >521</th>\n",
       "      <td id=\"T_eb5d8_row2_col0\" class=\"data row2 col0\" >Animation</td>\n",
       "      <td id=\"T_eb5d8_row2_col1\" class=\"data row2 col1\" >Despicable Me 2 </td>\n",
       "      <td id=\"T_eb5d8_row2_col2\" class=\"data row2 col2\" >0.000368</td>\n",
       "    </tr>\n",
       "    <tr>\n",
       "      <th id=\"T_eb5d8_level0_row3\" class=\"row_heading level0 row3\" >1403</th>\n",
       "      <td id=\"T_eb5d8_row3_col0\" class=\"data row3 col0\" >Biography</td>\n",
       "      <td id=\"T_eb5d8_row3_col1\" class=\"data row3 col1\" >The Blind Side </td>\n",
       "      <td id=\"T_eb5d8_row3_col2\" class=\"data row3 col2\" >0.000256</td>\n",
       "    </tr>\n",
       "    <tr>\n",
       "      <th id=\"T_eb5d8_level0_row4\" class=\"row_heading level0 row4\" >836</th>\n",
       "      <td id=\"T_eb5d8_row4_col0\" class=\"data row4 col0\" >Comedy</td>\n",
       "      <td id=\"T_eb5d8_row4_col1\" class=\"data row4 col1\" >Forrest Gump </td>\n",
       "      <td id=\"T_eb5d8_row4_col2\" class=\"data row4 col2\" >0.000330</td>\n",
       "    </tr>\n",
       "    <tr>\n",
       "      <th id=\"T_eb5d8_level0_row5\" class=\"row_heading level0 row5\" >3466</th>\n",
       "      <td id=\"T_eb5d8_row5_col0\" class=\"data row5 col0\" >Crime</td>\n",
       "      <td id=\"T_eb5d8_row5_col1\" class=\"data row5 col1\" >The Godfather </td>\n",
       "      <td id=\"T_eb5d8_row5_col2\" class=\"data row5 col2\" >0.000135</td>\n",
       "    </tr>\n",
       "    <tr>\n",
       "      <th id=\"T_eb5d8_level0_row6\" class=\"row_heading level0 row6\" >3583</th>\n",
       "      <td id=\"T_eb5d8_row6_col0\" class=\"data row6 col0\" >Documentary</td>\n",
       "      <td id=\"T_eb5d8_row6_col1\" class=\"data row6 col1\" >Fahrenheit 9/11 </td>\n",
       "      <td id=\"T_eb5d8_row6_col2\" class=\"data row6 col2\" >0.000119</td>\n",
       "    </tr>\n",
       "    <tr>\n",
       "      <th id=\"T_eb5d8_level0_row7\" class=\"row_heading level0 row7\" >26</th>\n",
       "      <td id=\"T_eb5d8_row7_col0\" class=\"data row7 col0\" >Drama</td>\n",
       "      <td id=\"T_eb5d8_row7_col1\" class=\"data row7 col1\" >Titanic </td>\n",
       "      <td id=\"T_eb5d8_row7_col2\" class=\"data row7 col2\" >0.000659</td>\n",
       "    </tr>\n",
       "    <tr>\n",
       "      <th id=\"T_eb5d8_level0_row8\" class=\"row_heading level0 row8\" >3080</th>\n",
       "      <td id=\"T_eb5d8_row8_col0\" class=\"data row8 col0\" >Family</td>\n",
       "      <td id=\"T_eb5d8_row8_col1\" class=\"data row8 col1\" >E.T. the Extra-Terrestrial </td>\n",
       "      <td id=\"T_eb5d8_row8_col2\" class=\"data row8 col2\" >0.000435</td>\n",
       "    </tr>\n",
       "    <tr>\n",
       "      <th id=\"T_eb5d8_level0_row9\" class=\"row_heading level0 row9\" >2485</th>\n",
       "      <td id=\"T_eb5d8_row9_col0\" class=\"data row9 col0\" >Fantasy</td>\n",
       "      <td id=\"T_eb5d8_row9_col1\" class=\"data row9 col1\" >The Others </td>\n",
       "      <td id=\"T_eb5d8_row9_col2\" class=\"data row9 col2\" >0.000096</td>\n",
       "    </tr>\n",
       "    <tr>\n",
       "      <th id=\"T_eb5d8_level0_row10\" class=\"row_heading level0 row10\" >2916</th>\n",
       "      <td id=\"T_eb5d8_row10_col0\" class=\"data row10 col0\" >Horror</td>\n",
       "      <td id=\"T_eb5d8_row10_col1\" class=\"data row10 col1\" >The Exorcist </td>\n",
       "      <td id=\"T_eb5d8_row10_col2\" class=\"data row10 col2\" >0.000205</td>\n",
       "    </tr>\n",
       "    <tr>\n",
       "      <th id=\"T_eb5d8_level0_row11\" class=\"row_heading level0 row11\" >3581</th>\n",
       "      <td id=\"T_eb5d8_row11_col0\" class=\"data row11 col0\" >Musical</td>\n",
       "      <td id=\"T_eb5d8_row11_col1\" class=\"data row11 col1\" >Grease </td>\n",
       "      <td id=\"T_eb5d8_row11_col2\" class=\"data row11 col2\" >0.000181</td>\n",
       "    </tr>\n",
       "    <tr>\n",
       "      <th id=\"T_eb5d8_level0_row12\" class=\"row_heading level0 row12\" >208</th>\n",
       "      <td id=\"T_eb5d8_row12_col0\" class=\"data row12 col0\" >Mystery</td>\n",
       "      <td id=\"T_eb5d8_row12_col1\" class=\"data row12 col1\" >The Da Vinci Code </td>\n",
       "      <td id=\"T_eb5d8_row12_col2\" class=\"data row12 col2\" >0.000218</td>\n",
       "    </tr>\n",
       "    <tr>\n",
       "      <th id=\"T_eb5d8_level0_row13\" class=\"row_heading level0 row13\" >928</th>\n",
       "      <td id=\"T_eb5d8_row13_col0\" class=\"data row13 col0\" >Romance</td>\n",
       "      <td id=\"T_eb5d8_row13_col1\" class=\"data row13 col1\" >The Adjustment Bureau </td>\n",
       "      <td id=\"T_eb5d8_row13_col2\" class=\"data row13 col2\" >0.000062</td>\n",
       "    </tr>\n",
       "    <tr>\n",
       "      <th id=\"T_eb5d8_level0_row14\" class=\"row_heading level0 row14\" >2925</th>\n",
       "      <td id=\"T_eb5d8_row14_col0\" class=\"data row14 col0\" >Sci-Fi</td>\n",
       "      <td id=\"T_eb5d8_row14_col1\" class=\"data row14 col1\" >WarGames </td>\n",
       "      <td id=\"T_eb5d8_row14_col2\" class=\"data row14 col2\" >0.000080</td>\n",
       "    </tr>\n",
       "    <tr>\n",
       "      <th id=\"T_eb5d8_level0_row15\" class=\"row_heading level0 row15\" >5034</th>\n",
       "      <td id=\"T_eb5d8_row15_col0\" class=\"data row15 col0\" >Thriller</td>\n",
       "      <td id=\"T_eb5d8_row15_col1\" class=\"data row15 col1\" >Cavite </td>\n",
       "      <td id=\"T_eb5d8_row15_col2\" class=\"data row15 col2\" >0.000000</td>\n",
       "    </tr>\n",
       "    <tr>\n",
       "      <th id=\"T_eb5d8_level0_row16\" class=\"row_heading level0 row16\" >3540</th>\n",
       "      <td id=\"T_eb5d8_row16_col0\" class=\"data row16 col0\" >Western</td>\n",
       "      <td id=\"T_eb5d8_row16_col1\" class=\"data row16 col1\" >Pale Rider </td>\n",
       "      <td id=\"T_eb5d8_row16_col2\" class=\"data row16 col2\" >0.000041</td>\n",
       "    </tr>\n",
       "  </tbody>\n",
       "</table>\n"
      ],
      "text/plain": [
       "<pandas.io.formats.style.Styler at 0x2dd10c7adc0>"
      ]
     },
     "metadata": {},
     "output_type": "display_data"
    }
   ],
   "source": [
    "#Now to compare the Gross with Genres.\n",
    "#First group the genres and get the max, min, and avg gross of the movies of that genre.\n",
    "data[['Genre1','gross',]].groupby(['Genre1']).agg(['max','mean','min']).plot(kind = 'line', color = ['red','black','blue'])\n",
    "plt.title('Which Genre is Most Bankable?', fontsize = 20)\n",
    "plt.xticks(np.arange(17), ['Action', 'Adventure', 'Animation', 'Biography', 'Comedy', 'Crime',\n",
    "'Documentary', 'Drama', 'Family', 'Fantasy', 'Horror', 'Musical',\n",
    "'Mystery', 'Romance', 'Sci-Fi', 'Thriller', 'Western'], rotation = 90, fontsize = 15)\n",
    "plt.ylabel('Gross', fontsize = 15)\n",
    "plt.xlabel(' ',)\n",
    "plt.show()\n",
    "print('The Most Profitable Movie from each Genre')\n",
    "display(data.loc[data.groupby(data['Genre1'])['Profit'].idxmax()][['Genre1',\n",
    "'movie_title','gross']].style.background_gradient(cmap = 'copper'))"
   ]
  },
  {
   "cell_type": "code",
   "execution_count": 46,
   "id": "dbf97eda",
   "metadata": {},
   "outputs": [
    {
     "name": "stdout",
     "output_type": "stream",
     "text": [
      "Most Profitable Years in Box Office\n"
     ]
    },
    {
     "data": {
      "text/html": [
       "<style type=\"text/css\">\n",
       "#T_c452f_row0_col0 {\n",
       "  background-color: #00441b;\n",
       "  color: #f1f1f1;\n",
       "}\n",
       "#T_c452f_row1_col0 {\n",
       "  background-color: #004c1e;\n",
       "  color: #f1f1f1;\n",
       "}\n",
       "#T_c452f_row2_col0 {\n",
       "  background-color: #339c52;\n",
       "  color: #f1f1f1;\n",
       "}\n",
       "#T_c452f_row3_col0 {\n",
       "  background-color: #4eb264;\n",
       "  color: #f1f1f1;\n",
       "}\n",
       "#T_c452f_row4_col0 {\n",
       "  background-color: #7fc97f;\n",
       "  color: #000000;\n",
       "}\n",
       "#T_c452f_row5_col0 {\n",
       "  background-color: #8ed08b;\n",
       "  color: #000000;\n",
       "}\n",
       "#T_c452f_row6_col0 {\n",
       "  background-color: #bce4b5;\n",
       "  color: #000000;\n",
       "}\n",
       "#T_c452f_row7_col0 {\n",
       "  background-color: #e0f3db;\n",
       "  color: #000000;\n",
       "}\n",
       "#T_c452f_row8_col0 {\n",
       "  background-color: #eff9eb;\n",
       "  color: #000000;\n",
       "}\n",
       "#T_c452f_row9_col0 {\n",
       "  background-color: #f7fcf5;\n",
       "  color: #000000;\n",
       "}\n",
       "</style>\n",
       "<table id=\"T_c452f_\">\n",
       "  <thead>\n",
       "    <tr>\n",
       "      <th class=\"blank\" >&nbsp;</th>\n",
       "      <th class=\"blank level0\" >&nbsp;</th>\n",
       "      <th class=\"col_heading level0 col0\" >Profit</th>\n",
       "    </tr>\n",
       "    <tr>\n",
       "      <th class=\"index_name level0\" >language</th>\n",
       "      <th class=\"index_name level1\" >title_year</th>\n",
       "      <th class=\"blank col0\" >&nbsp;</th>\n",
       "    </tr>\n",
       "  </thead>\n",
       "  <tbody>\n",
       "    <tr>\n",
       "      <th id=\"T_c452f_level0_row0\" class=\"row_heading level0 row0\" rowspan=\"10\">English</th>\n",
       "      <th id=\"T_c452f_level1_row0\" class=\"row_heading level1 row0\" >2014</th>\n",
       "      <td id=\"T_c452f_row0_col0\" class=\"data row0 col0\" >0.002730</td>\n",
       "    </tr>\n",
       "    <tr>\n",
       "      <th id=\"T_c452f_level1_row1\" class=\"row_heading level1 row1\" >2012</th>\n",
       "      <td id=\"T_c452f_row1_col0\" class=\"data row1 col0\" >0.002702</td>\n",
       "    </tr>\n",
       "    <tr>\n",
       "      <th id=\"T_c452f_level1_row2\" class=\"row_heading level1 row2\" >2015</th>\n",
       "      <td id=\"T_c452f_row2_col0\" class=\"data row2 col0\" >0.002368</td>\n",
       "    </tr>\n",
       "    <tr>\n",
       "      <th id=\"T_c452f_level1_row3\" class=\"row_heading level1 row3\" >2002</th>\n",
       "      <td id=\"T_c452f_row3_col0\" class=\"data row3 col0\" >0.002268</td>\n",
       "    </tr>\n",
       "    <tr>\n",
       "      <th id=\"T_c452f_level1_row4\" class=\"row_heading level1 row4\" >2009</th>\n",
       "      <td id=\"T_c452f_row4_col0\" class=\"data row4 col0\" >0.002133</td>\n",
       "    </tr>\n",
       "    <tr>\n",
       "      <th id=\"T_c452f_level1_row5\" class=\"row_heading level1 row5\" >2013</th>\n",
       "      <td id=\"T_c452f_row5_col0\" class=\"data row5 col0\" >0.002084</td>\n",
       "    </tr>\n",
       "    <tr>\n",
       "      <th id=\"T_c452f_level1_row6\" class=\"row_heading level1 row6\" >2003</th>\n",
       "      <td id=\"T_c452f_row6_col0\" class=\"data row6 col0\" >0.001924</td>\n",
       "    </tr>\n",
       "    <tr>\n",
       "      <th id=\"T_c452f_level1_row7\" class=\"row_heading level1 row7\" >2007</th>\n",
       "      <td id=\"T_c452f_row7_col0\" class=\"data row7 col0\" >0.001765</td>\n",
       "    </tr>\n",
       "    <tr>\n",
       "      <th id=\"T_c452f_level1_row8\" class=\"row_heading level1 row8\" >2001</th>\n",
       "      <td id=\"T_c452f_row8_col0\" class=\"data row8 col0\" >0.001667</td>\n",
       "    </tr>\n",
       "    <tr>\n",
       "      <th id=\"T_c452f_level1_row9\" class=\"row_heading level1 row9\" >1994</th>\n",
       "      <td id=\"T_c452f_row9_col0\" class=\"data row9 col0\" >0.001600</td>\n",
       "    </tr>\n",
       "  </tbody>\n",
       "</table>\n"
      ],
      "text/plain": [
       "<pandas.io.formats.style.Styler at 0x2dd10ced3a0>"
      ]
     },
     "metadata": {},
     "output_type": "display_data"
    },
    {
     "name": "stderr",
     "output_type": "stream",
     "text": [
      "D:\\Anaconda(Python Class)\\lib\\site-packages\\seaborn\\_decorators.py:36: FutureWarning: Pass the following variables as keyword args: x, y. From version 0.12, the only valid positional argument will be `data`, and passing other arguments without an explicit keyword will result in an error or misinterpretation.\n",
      "  warnings.warn(\n"
     ]
    },
    {
     "data": {
      "image/png": "[encoded data removed]",
      "text/plain": [
       "<Figure size 1152x576 with 1 Axes>"
      ]
     },
     "metadata": {},
     "output_type": "display_data"
    }
   ],
   "source": [
    "#To find Most Profitable Years in Box Office:\n",
    "data['title_year'] = data['title_year'].astype('int')\n",
    "print('Most Profitable Years in Box Office')\n",
    "display(data[['title_year','language','Profit']].groupby(['language',\n",
    "'title_year']).agg('sum').sort_values(by = 'Profit',\n",
    "ascending = False).head(10).style.background_gradient(cmap = 'Greens'))\n",
    "# Plot them\n",
    "sns.lineplot(data['title_year'], data['Profit'], hue = data['language'])\n",
    "plt.title('Time Series for Box Office Profit for English vs Foreign Movies'\n",
    "          , fontsize = 20)\n",
    "plt.xticks(fontsize = 18)\n",
    "plt.xlabel(' ')\n",
    "plt.show()"
   ]
  },
  {
   "cell_type": "code",
   "execution_count": 47,
   "id": "d367894f",
   "metadata": {},
   "outputs": [
    {
     "data": {
      "text/html": [
       "<style type=\"text/css\">\n",
       "#T_ee84e_row0_col2, #T_ee84e_row0_col3 {\n",
       "  background-color: #ffff00;\n",
       "  color: #000000;\n",
       "}\n",
       "#T_ee84e_row1_col2 {\n",
       "  background-color: #ffa35c;\n",
       "  color: #000000;\n",
       "}\n",
       "#T_ee84e_row1_col3 {\n",
       "  background-color: #ffd22d;\n",
       "  color: #000000;\n",
       "}\n",
       "#T_ee84e_row2_col2 {\n",
       "  background-color: #ffa857;\n",
       "  color: #000000;\n",
       "}\n",
       "#T_ee84e_row2_col3 {\n",
       "  background-color: #ff758a;\n",
       "  color: #f1f1f1;\n",
       "}\n",
       "#T_ee84e_row3_col2, #T_ee84e_row4_col3 {\n",
       "  background-color: #ff00ff;\n",
       "  color: #f1f1f1;\n",
       "}\n",
       "#T_ee84e_row3_col3 {\n",
       "  background-color: #ff639c;\n",
       "  color: #f1f1f1;\n",
       "}\n",
       "#T_ee84e_row4_col2 {\n",
       "  background-color: #ff8a75;\n",
       "  color: #f1f1f1;\n",
       "}\n",
       "</style>\n",
       "<table id=\"T_ee84e_\">\n",
       "  <thead>\n",
       "    <tr>\n",
       "      <th class=\"blank level0\" >&nbsp;</th>\n",
       "      <th class=\"col_heading level0 col0\" >movie_title</th>\n",
       "      <th class=\"col_heading level0 col1\" >duration</th>\n",
       "      <th class=\"col_heading level0 col2\" >gross</th>\n",
       "      <th class=\"col_heading level0 col3\" >Profit</th>\n",
       "    </tr>\n",
       "  </thead>\n",
       "  <tbody>\n",
       "    <tr>\n",
       "      <th id=\"T_ee84e_level0_row0\" class=\"row_heading level0 row0\" >0</th>\n",
       "      <td id=\"T_ee84e_row0_col0\" class=\"data row0 col0\" >Avatar </td>\n",
       "      <td id=\"T_ee84e_row0_col1\" class=\"data row0 col1\" >Long</td>\n",
       "      <td id=\"T_ee84e_row0_col2\" class=\"data row0 col2\" >0.000761</td>\n",
       "      <td id=\"T_ee84e_row0_col3\" class=\"data row0 col3\" >0.000524</td>\n",
       "    </tr>\n",
       "    <tr>\n",
       "      <th id=\"T_ee84e_level0_row1\" class=\"row_heading level0 row1\" >29</th>\n",
       "      <td id=\"T_ee84e_row1_col0\" class=\"data row1 col0\" >Jurassic World </td>\n",
       "      <td id=\"T_ee84e_row1_col1\" class=\"data row1 col1\" >Long</td>\n",
       "      <td id=\"T_ee84e_row1_col2\" class=\"data row1 col2\" >0.000652</td>\n",
       "      <td id=\"T_ee84e_row1_col3\" class=\"data row1 col3\" >0.000502</td>\n",
       "    </tr>\n",
       "    <tr>\n",
       "      <th id=\"T_ee84e_level0_row2\" class=\"row_heading level0 row2\" >26</th>\n",
       "      <td id=\"T_ee84e_row2_col0\" class=\"data row2 col0\" >Titanic </td>\n",
       "      <td id=\"T_ee84e_row2_col1\" class=\"data row2 col1\" >Long</td>\n",
       "      <td id=\"T_ee84e_row2_col2\" class=\"data row2 col2\" >0.000659</td>\n",
       "      <td id=\"T_ee84e_row2_col3\" class=\"data row2 col3\" >0.000459</td>\n",
       "    </tr>\n",
       "    <tr>\n",
       "      <th id=\"T_ee84e_level0_row3\" class=\"row_heading level0 row3\" >3024</th>\n",
       "      <td id=\"T_ee84e_row3_col0\" class=\"data row3 col0\" >Star Wars: Episode IV - A New Hope </td>\n",
       "      <td id=\"T_ee84e_row3_col1\" class=\"data row3 col1\" >Long</td>\n",
       "      <td id=\"T_ee84e_row3_col2\" class=\"data row3 col2\" >0.000461</td>\n",
       "      <td id=\"T_ee84e_row3_col3\" class=\"data row3 col3\" >0.000450</td>\n",
       "    </tr>\n",
       "    <tr>\n",
       "      <th id=\"T_ee84e_level0_row4\" class=\"row_heading level0 row4\" >17</th>\n",
       "      <td id=\"T_ee84e_row4_col0\" class=\"data row4 col0\" >The Avengers </td>\n",
       "      <td id=\"T_ee84e_row4_col1\" class=\"data row4 col1\" >Long</td>\n",
       "      <td id=\"T_ee84e_row4_col2\" class=\"data row4 col2\" >0.000623</td>\n",
       "      <td id=\"T_ee84e_row4_col3\" class=\"data row4 col3\" >0.000403</td>\n",
       "    </tr>\n",
       "  </tbody>\n",
       "</table>\n"
      ],
      "text/plain": [
       "<pandas.io.formats.style.Styler at 0x2dd11b1abe0>"
      ]
     },
     "metadata": {},
     "output_type": "display_data"
    },
    {
     "data": {
      "text/html": [
       "<style type=\"text/css\">\n",
       "#T_df11f_row0_col2, #T_df11f_row0_col3 {\n",
       "  background-color: #ffff00;\n",
       "  color: #000000;\n",
       "}\n",
       "#T_df11f_row1_col2 {\n",
       "  background-color: #ffd42b;\n",
       "  color: #000000;\n",
       "}\n",
       "#T_df11f_row1_col3 {\n",
       "  background-color: #ffa956;\n",
       "  color: #000000;\n",
       "}\n",
       "#T_df11f_row2_col2, #T_df11f_row4_col3 {\n",
       "  background-color: #ff00ff;\n",
       "  color: #f1f1f1;\n",
       "}\n",
       "#T_df11f_row2_col3 {\n",
       "  background-color: #ff21de;\n",
       "  color: #f1f1f1;\n",
       "}\n",
       "#T_df11f_row3_col2 {\n",
       "  background-color: #ff11ee;\n",
       "  color: #f1f1f1;\n",
       "}\n",
       "#T_df11f_row3_col3 {\n",
       "  background-color: #ff09f6;\n",
       "  color: #f1f1f1;\n",
       "}\n",
       "#T_df11f_row4_col2 {\n",
       "  background-color: #ff3fc0;\n",
       "  color: #f1f1f1;\n",
       "}\n",
       "</style>\n",
       "<table id=\"T_df11f_\">\n",
       "  <thead>\n",
       "    <tr>\n",
       "      <th class=\"blank level0\" >&nbsp;</th>\n",
       "      <th class=\"col_heading level0 col0\" >movie_title</th>\n",
       "      <th class=\"col_heading level0 col1\" >duration</th>\n",
       "      <th class=\"col_heading level0 col2\" >gross</th>\n",
       "      <th class=\"col_heading level0 col3\" >Profit</th>\n",
       "    </tr>\n",
       "  </thead>\n",
       "  <tbody>\n",
       "    <tr>\n",
       "      <th id=\"T_df11f_level0_row0\" class=\"row_heading level0 row0\" >3080</th>\n",
       "      <td id=\"T_df11f_row0_col0\" class=\"data row0 col0\" >E.T. the Extra-Terrestrial </td>\n",
       "      <td id=\"T_df11f_row0_col1\" class=\"data row0 col1\" >Short</td>\n",
       "      <td id=\"T_df11f_row0_col2\" class=\"data row0 col2\" >0.000435</td>\n",
       "      <td id=\"T_df11f_row0_col3\" class=\"data row0 col3\" >0.000424</td>\n",
       "    </tr>\n",
       "    <tr>\n",
       "      <th id=\"T_df11f_level0_row1\" class=\"row_heading level0 row1\" >509</th>\n",
       "      <td id=\"T_df11f_row1_col0\" class=\"data row1 col0\" >The Lion King </td>\n",
       "      <td id=\"T_df11f_row1_col1\" class=\"data row1 col1\" >Short</td>\n",
       "      <td id=\"T_df11f_row1_col2\" class=\"data row1 col2\" >0.000423</td>\n",
       "      <td id=\"T_df11f_row1_col3\" class=\"data row1 col3\" >0.000378</td>\n",
       "    </tr>\n",
       "    <tr>\n",
       "      <th id=\"T_df11f_level0_row2\" class=\"row_heading level0 row2\" >812</th>\n",
       "      <td id=\"T_df11f_row2_col0\" class=\"data row2 col0\" >Deadpool </td>\n",
       "      <td id=\"T_df11f_row2_col1\" class=\"data row2 col1\" >Short</td>\n",
       "      <td id=\"T_df11f_row2_col2\" class=\"data row2 col2\" >0.000363</td>\n",
       "      <td id=\"T_df11f_row2_col3\" class=\"data row2 col3\" >0.000305</td>\n",
       "    </tr>\n",
       "    <tr>\n",
       "      <th id=\"T_df11f_level0_row3\" class=\"row_heading level0 row3\" >521</th>\n",
       "      <td id=\"T_df11f_row3_col0\" class=\"data row3 col0\" >Despicable Me 2 </td>\n",
       "      <td id=\"T_df11f_row3_col1\" class=\"data row3 col1\" >Short</td>\n",
       "      <td id=\"T_df11f_row3_col2\" class=\"data row3 col2\" >0.000368</td>\n",
       "      <td id=\"T_df11f_row3_col3\" class=\"data row3 col3\" >0.000292</td>\n",
       "    </tr>\n",
       "    <tr>\n",
       "      <th id=\"T_df11f_level0_row4\" class=\"row_heading level0 row4\" >338</th>\n",
       "      <td id=\"T_df11f_row4_col0\" class=\"data row4 col0\" >Finding Nemo </td>\n",
       "      <td id=\"T_df11f_row4_col1\" class=\"data row4 col1\" >Short</td>\n",
       "      <td id=\"T_df11f_row4_col2\" class=\"data row4 col2\" >0.000381</td>\n",
       "      <td id=\"T_df11f_row4_col3\" class=\"data row4 col3\" >0.000287</td>\n",
       "    </tr>\n",
       "  </tbody>\n",
       "</table>\n"
      ],
      "text/plain": [
       "<pandas.io.formats.style.Styler at 0x2dd11b07310>"
      ]
     },
     "metadata": {},
     "output_type": "display_data"
    },
    {
     "name": "stderr",
     "output_type": "stream",
     "text": [
      "D:\\Anaconda(Python Class)\\lib\\site-packages\\seaborn\\_decorators.py:36: FutureWarning: Pass the following variables as keyword args: x, y. From version 0.12, the only valid positional argument will be `data`, and passing other arguments without an explicit keyword will result in an error or misinterpretation.\n",
      "  warnings.warn(\n"
     ]
    },
    {
     "data": {
      "text/plain": [
       "Text(0.5, 1.0, 'Gross Comparison')"
      ]
     },
     "execution_count": 47,
     "metadata": {},
     "output_type": "execute_result"
    },
    {
     "data": {
      "image/png": "[encoded data removed]",
      "text/plain": [
       "<Figure size 1152x576 with 1 Axes>"
      ]
     },
     "metadata": {},
     "output_type": "display_data"
    }
   ],
   "source": [
    "#To find Movies that Made Huge Losses\n",
    "display(data[data['duration'] == 'Long'][['movie_title', 'duration', 'gross',\n",
    "'Profit']].sort_values(by = 'Profit',ascending = False).head(5).style.background_gradient(cmap = 'spring'))\n",
    "display(data[data['duration'] == 'Short'][['movie_title', 'duration', 'gross',\n",
    "'Profit']].sort_values(by = 'Profit',ascending = False).head(5).style.background_gradient(cmap = 'spring'))\n",
    "sns.barplot(data['duration'], data['gross'], hue = data['language'], palette = 'spring')\n",
    "plt.title('Gross Comparison')"
   ]
  },
  {
   "cell_type": "code",
   "execution_count": 48,
   "id": "093973f5",
   "metadata": {},
   "outputs": [
    {
     "name": "stdout",
     "output_type": "stream",
     "text": [
      "Average IMDB Score for Long Duration Movies is 7.06\n"
     ]
    }
   ],
   "source": [
    "#Now to print average IMDB Score for Long Duration Movies\n",
    "print(\"Average IMDB Score for Long Duration Movies is {0:.2f}\"\n",
    "     .format(data[data['duration'] == 'Long']['imdb_score'].mean()))"
   ]
  },
  {
   "cell_type": "code",
   "execution_count": 49,
   "id": "42fe261c",
   "metadata": {},
   "outputs": [
    {
     "name": "stdout",
     "output_type": "stream",
     "text": [
      "Average IMDB Score for Short Duration Movies is 6.28\n"
     ]
    }
   ],
   "source": [
    "#Then print average IMDB Score for Short Duration Movies\n",
    "print(\"Average IMDB Score for Short Duration Movies is {0:.2f}\"\n",
    "      .format(data[data['duration'] == 'Short']['imdb_score'].mean()))"
   ]
  },
  {
   "cell_type": "code",
   "execution_count": 50,
   "id": "705148a7",
   "metadata": {},
   "outputs": [
    {
     "name": "stdout",
     "output_type": "stream",
     "text": [
      "\n",
      "Highest Rated Long Duration Movie\n",
      "                     movie_title  imdb_score\n",
      "1937  The Shawshank Redemption          9.3\n"
     ]
    }
   ],
   "source": [
    "#Highest Rated Long Duration Movie\n",
    "print(\"\\nHighest Rated Long Duration Movie\\n\",\n",
    "data[data['duration'] == 'Long'][['movie_title','imdb_score']]\n",
    "      .sort_values(by = 'imdb_score', ascending = False).head(1))"
   ]
  },
  {
   "cell_type": "code",
   "execution_count": 51,
   "id": "d76ada59",
   "metadata": {},
   "outputs": [
    {
     "name": "stdout",
     "output_type": "stream",
     "text": [
      "\n",
      "Highest Rated Short Duration Movie\n",
      "         movie_title  imdb_score\n",
      "4427  Modern Times          8.6\n"
     ]
    }
   ],
   "source": [
    "#Highest Rated Short Duration Movie\n",
    "print(\"\\nHighest Rated Short Duration Movie\\n\",\n",
    "data[data['duration'] == 'Short'][['movie_title','imdb_score']]\n",
    "      .sort_values(by = 'imdb_score', ascending = False).head(1))"
   ]
  },
  {
   "cell_type": "code",
   "execution_count": 62,
   "id": "69aafdd2",
   "metadata": {},
   "outputs": [
    {
     "name": "stderr",
     "output_type": "stream",
     "text": [
      "D:\\Anaconda(Python Class)\\lib\\site-packages\\seaborn\\_decorators.py:36: FutureWarning: Pass the following variables as keyword args: x, y. From version 0.12, the only valid positional argument will be `data`, and passing other arguments without an explicit keyword will result in an error or misinterpretation.\n",
      "  warnings.warn(\n"
     ]
    },
    {
     "data": {
      "image/png": "[encoded data removed]",
      "text/plain": [
       "<Figure size 1152x576 with 1 Axes>"
      ]
     },
     "metadata": {},
     "output_type": "display_data"
    }
   ],
   "source": [
    "#BoxPlot\n",
    "#IMDB Ratings vs Gross\n",
    "sns.boxplot(data['imdb_score'], data['duration'], palette = 'copper')\n",
    "plt.title('IMDB Ratings vs Gross', fontsize = 20)\n",
    "plt.xticks(rotation = 90)\n",
    "plt.show()"
   ]
  }
 ],
 "metadata": {
  "kernelspec": {
   "display_name": "Python 3 (ipykernel)",
   "language": "python",
   "name": "python3"
  },
  "language_info": {
   "codemirror_mode": {
    "name": "ipython",
    "version": 3
   },
   "file_extension": ".py",
   "mimetype": "text/x-python",
   "name": "python",
   "nbconvert_exporter": "python",
   "pygments_lexer": "ipython3",
   "version": "3.9.7"
  }
 },
 "nbformat": 4,
 "nbformat_minor": 5
}
